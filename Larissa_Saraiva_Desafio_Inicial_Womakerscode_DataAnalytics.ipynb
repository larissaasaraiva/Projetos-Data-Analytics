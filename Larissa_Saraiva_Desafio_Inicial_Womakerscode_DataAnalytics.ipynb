{
  "nbformat": 4,
  "nbformat_minor": 0,
  "metadata": {
    "colab": {
      "provenance": [],
      "include_colab_link": true
    },
    "kernelspec": {
      "name": "python3",
      "display_name": "Python 3"
    },
    "language_info": {
      "name": "python"
    }
  },
  "cells": [
    {
      "cell_type": "markdown",
      "metadata": {
        "id": "view-in-github",
        "colab_type": "text"
      },
      "source": [
        "<a href=\"https://colab.research.google.com/github/larissaasaraiva/Projetos-Data-Analytics/blob/main/Larissa_Saraiva_Desafio_Inicial_Womakerscode_DataAnalytics.ipynb\" target=\"_parent\"><img src=\"https://colab.research.google.com/assets/colab-badge.svg\" alt=\"Open In Colab\"/></a>"
      ]
    },
    {
      "cell_type": "markdown",
      "source": [
        "### Bem vindas ao desafio de python do bootcamp Tech Minas da WoMakersCode!\n",
        "Neste notebook, voce deve escrever o codigo python em resposta à cada uma das perguntas. Esteja atenta ao enunciado do problema!\n"
      ],
      "metadata": {
        "id": "Z55f1u4p4oHu"
      }
    },
    {
      "cell_type": "markdown",
      "source": [
        "### Desafio 1\n",
        "Escreva uma função em python que lê dois números inteiros (a,b) e gere como resultado as seguintes operações:adição, subtração, multiplicação e divisão. Execute a funçao na celula abaixo, deixando visivel exemplos de resultados.\n"
      ],
      "metadata": {
        "id": "oFGdIzuu5W7b"
      }
    },
    {
      "cell_type": "code",
      "source": [
        "#  Esta função recebe como parametro dois numeros inteiros\n",
        "#  e realiza as operações de soma, subtração , multiplicação , divisão\n",
        "def operations(a,b):\n",
        "\n",
        "    soma = a + b\n",
        "\n",
        "    sub = a - b\n",
        "\n",
        "    mult = a * b\n",
        "    \n",
        "    div = a / b\n",
        "\n",
        "# Por fim a função retorna os resultados das operações\n",
        "    return  soma, sub , mult , div\n",
        "    "
      ],
      "metadata": {
        "id": "LzCl-VH14t4a"
      },
      "execution_count": null,
      "outputs": []
    },
    {
      "cell_type": "code",
      "execution_count": null,
      "metadata": {
        "id": "kMNcvrYZ4krA"
      },
      "outputs": [],
      "source": [
        "# Recebe do usuário e armazena nas váriaveis os valores que serão passados para a função\n",
        "num1 = int(input(\"Digite o primeiro número: \"))\n",
        "num2 = int(input(\"Digite o segundo número: \"))\n",
        "\n",
        "#  Armazena o retorno das operações realizadas pela função, como é mais de um valor\n",
        "#  os valores serão armazenados em uma lista\n",
        "operacoes = operations(num1, num2)\n",
        "\n",
        "# Exibe para o usuário os valores das operações\n",
        "print(\"Soma = {} \".format(operacoes[0]));\n",
        "print(\"Subtração = {} \".format(operacoes[1]));\n",
        "print(\"Multiplicão = {} \".format(operacoes[2]));\n",
        "print(\"Divisão = {} \".format(operacoes[3]));\n"
      ]
    },
    {
      "cell_type": "markdown",
      "source": [],
      "metadata": {
        "id": "nmtSSen0uwUu"
      }
    },
    {
      "cell_type": "markdown",
      "source": [
        "### Desafio 2\n",
        "Escreva uma função em python que leia como input uma idade e retorne a classificaçao da ideade do individuo da seguinte forma em:\n",
        "\n",
        "*  Criança – 0 a 12 anos\n",
        "*  Adolescente – 13 a 17 anos\n",
        "*  Adulto – acima de 18 anos\n",
        "\n",
        "\n",
        "Se a idade for um número negativo, mostrar a mensagem que a \"idade inválida\"\n",
        "\n"
      ],
      "metadata": {
        "id": "m_tFtRo5581u"
      }
    },
    {
      "cell_type": "code",
      "source": [
        "#  A Função compara a idade digitada pelo o usuário e retorna a classificação\n",
        "#   definida para aquela idade\n",
        "def classifica_idade(idade):\n",
        "    if idade >= 18:\n",
        "        return \"Adulto\"\n",
        "    elif idade >= 13 and idade <= 17:\n",
        "        return \"Adolescente\"\n",
        "    elif idade >= 0 and idade <= 12:\n",
        "        return \"Criança\"\n",
        "    else:\n",
        "        return \"Idade Inválida\""
      ],
      "metadata": {
        "id": "cL-OpHGv6hyc"
      },
      "execution_count": null,
      "outputs": []
    },
    {
      "cell_type": "code",
      "source": [
        " # Recebe e armazena na variável a idade do usuário\n",
        "idadePessoa = int(input(\"Digite sua idade: \"))\n",
        "# Exibe para o usuário a classificação de retorno da função\n",
        "print(\"Classificação = {}\".format(classifica_idade(idadePessoa)))\n"
      ],
      "metadata": {
        "id": "49IE2lI66zNO"
      },
      "execution_count": null,
      "outputs": []
    },
    {
      "cell_type": "code",
      "source": [
        "idadePessoa = int(input(\"Digite sua idade: \"))\n",
        "print(\"Classificação = {}\".format(classifica_idade(idadePessoa)))\n"
      ],
      "metadata": {
        "id": "fYqSbzPmKpvT"
      },
      "execution_count": null,
      "outputs": []
    },
    {
      "cell_type": "code",
      "source": [
        "idadePessoa = int(input(\"Digite sua idade: \"))\n",
        "print(\"Classificação = {}\".format(classifica_idade(idadePessoa)))\n"
      ],
      "metadata": {
        "id": "7PBugWKBK2Jn"
      },
      "execution_count": null,
      "outputs": []
    },
    {
      "cell_type": "code",
      "source": [
        "idadePessoa = int(input(\"Digite sua idade: \"))\n",
        "print(\"Classificação = {}\".format(classifica_idade(idadePessoa)))\n"
      ],
      "metadata": {
        "id": "0OQmPi3xLDFO"
      },
      "execution_count": null,
      "outputs": []
    },
    {
      "cell_type": "markdown",
      "source": [
        "### Desafio 3\n",
        "Crie uma função em python que receba como input um determinado horário em horas e retorne a conversao deste horário para segundos\n"
      ],
      "metadata": {
        "id": "wIGGNN_v60s4"
      }
    },
    {
      "cell_type": "code",
      "source": [
        "\n",
        "# A função irá converter o tempo no formato hh:mm:ss para segundos\n",
        "def converter(horas):\n",
        "    # Separando as horas, minutos e segundos\n",
        "    time = horas.split(\":\")\n",
        "\n",
        "    # Verificando o tamanho da lista para se o usuário passou somentes horas, horas e minutos ou horas, minutos e segundos\n",
        "    if(len(time) == 1):\n",
        "        if not len(time[0]) == 0:\n",
        "            result = int(time[0]) * 3600\n",
        "        else:\n",
        "            # Caso o usuário tenha inserido um formato inválido será exibido essa mensagem abaixo\n",
        "            print(\"Formato de tempo inválido\")\n",
        "    elif(len(time) == 2): \n",
        "        if not len(time[0]) == 0:  \n",
        "            if not len(time[1]) == 0:  \n",
        "             result = int(time[0]) * 3600 + int(time[1]) * 60\n",
        "    elif(len(time) == 3):\n",
        "        if not len(time[0]) == 0:  \n",
        "            if not len(time[1]) == 0: \n",
        "                if not len(time[2]) == 0: \n",
        "                    result = int(time[0]) * 3600 + int(time[1]) * 60 + int(time[2])\n",
        "    else:\n",
        "         # Caso o usuário tenha inserido um formato inválido será exibido essa mensagem abaixo\n",
        "            print(\"Formato de tempo inválido\")   \n",
        "    # Retornando o tempo que o usuário digitou em horas\n",
        "    return result\n",
        "\n",
        "\n",
        "\n"
      ],
      "metadata": {
        "id": "JOF_tcax7ABd"
      },
      "execution_count": null,
      "outputs": []
    },
    {
      "cell_type": "code",
      "source": [
        " # Exibiindo para o usuário o resultado em segundos do tempo que ele passou como parâmetro\n",
        "print(converter(\"10:30:30\"))"
      ],
      "metadata": {
        "id": "AJf1IqiC7Mq_"
      },
      "execution_count": null,
      "outputs": []
    },
    {
      "cell_type": "code",
      "source": [
        "# Exibiindo para o usuário o resultado em segundos do tempo que ele passou como parâmetro\n",
        "print(converter(\"08:40:20\"))"
      ],
      "metadata": {
        "id": "WjsbV0tKMwbp"
      },
      "execution_count": null,
      "outputs": []
    },
    {
      "cell_type": "markdown",
      "source": [
        "### Desafio 4\n",
        "Crie uma função em python que calcule a média artimética de uma aluna que cursou a disciplina de Programação I. A funcao deve receber como input as notas M1, M2 e M3 e calcular a média. Após a média calculada, a funcao deve anunciar se a aluna foi aprovado, reprovado ou pegou exame de acordo conm a seguinte classificacao:\n",
        "\n",
        "* Se a média estiver entre 0.0 e 4.0, o aluno está reprovado\n",
        "* Se a média estiver entre 4.1 e 6.0, o aluno pegou exame\n",
        "* Se a média for maior do que 6.0, o aluno está aprovado\n",
        "* Se o aluno pegou exame, deve ser lida a nota do exame. Se a nota do exame for maior do que 6.0, está aprovado, senão; está reprovado\n"
      ],
      "metadata": {
        "id": "RCrTUh1E7OWn"
      }
    },
    {
      "cell_type": "code",
      "source": [
        "#  A função recebe as notas do aluno por parametro e realiza uma\n",
        "#  operação para calcular a media, após isso ela compara a média para \n",
        "#  saber a situação do aluno: aprovado, reprovado ou de exame\n",
        "def calcula_media(M1, M2, M3):\n",
        "    Media = (M1 + M2 + M3) / 3.0\n",
        "\n",
        "    if Media >= 0.0 and Media <= 4.0:\n",
        "        return \"Reprovado(a)\"\n",
        "    elif Media >= 4.1 and Media <= 6.0:\n",
        "        print(\"Sera necessário um Exame!!!\")\n",
        "        exame = float(input(\"Digite a nota do exame = \"))\n",
        "\n",
        "        if(exame > 6.0):\n",
        "            return \"Aprovado(a)\"\n",
        "        else:\n",
        "            return \"Reprovado(a)\"\n",
        "\n",
        "    elif Media > 6.0:\n",
        "        return \"Aprovado(a)\""
      ],
      "metadata": {
        "id": "VzNdyWZE70oc"
      },
      "execution_count": null,
      "outputs": []
    },
    {
      "cell_type": "code",
      "source": [
        "# Recebe do usuário e armazena na váriavel as notas do aluno\n",
        "Media1 = float(input(\"Digite a primeira nota = \"))\n",
        "Media2 = float(input(\"Digite a segunda nota = \"))\n",
        "Media3 = float(input(\"Digite a terceira nota = \"))\n",
        "\n",
        "# Mostra para o usuário o retorno da função\n",
        "print(\"Média = {}\".format(calcula_media(Media1, Media2, Media3)))"
      ],
      "metadata": {
        "id": "cY7vMECS77QY"
      },
      "execution_count": null,
      "outputs": []
    },
    {
      "cell_type": "code",
      "source": [
        "Media1 = float(input(\"Digite a primeira nota = \"))\n",
        "Media2 = float(input(\"Digite a segunda nota = \"))\n",
        "Media3 = float(input(\"Digite a terceira nota = \"))\n",
        "\n",
        "print(\"Média = {}\".format(calcula_media(Media1, Media2, Media3)))"
      ],
      "metadata": {
        "id": "PGOabesOQQUk"
      },
      "execution_count": null,
      "outputs": []
    },
    {
      "cell_type": "code",
      "source": [
        "Media1 = float(input(\"Digite a primeira nota = \"))\n",
        "Media2 = float(input(\"Digite a segunda nota = \"))\n",
        "Media3 = float(input(\"Digite a terceira nota = \"))\n",
        "\n",
        "print(\"Média = {}\".format(calcula_media(Media1, Media2, Media3)))"
      ],
      "metadata": {
        "id": "mGi5F1lZQcHh"
      },
      "execution_count": null,
      "outputs": []
    },
    {
      "cell_type": "markdown",
      "source": [
        "### Desafio 5\n",
        "Dado a seguinte lista: \n",
        "* equipes_bootcamp_dados = [BerthaLutz, GraceHopper, JaquelineGoes, SarahGilbert]\n",
        "\n",
        "1. Crie uma função em python que conte quantas vezes aparece a letra a em cada elemento da lista. Seu resultado deve ser uma lista . exemplo: [4,0,1,2]\n",
        "\n",
        "2. Leia a lista de alunas: ['Maria', 'Ana','Camila','Mariana','Elaine','Patricia','Marina','Erica','Larissa','Luiza', 'Nicole','Bruna']\n",
        "\n",
        "3. Crie uma função que atribua cada uma das alunas em uma das equipes da lista equipes_bootcamp_dados, de modo que cada equipe pode ter 3 alunas no máximo.\n",
        "\n",
        " Para isso ordene em alfabética. O seu resultado deve ser um dicionário python. exemplo {'BerthaLutz': ['Ana', 'Bruna', 'Camila'], 'GraceHopper': ['Elaine','Erika','Luiza'],... }\n"
      ],
      "metadata": {
        "id": "eI9AkpYT788b"
      }
    },
    {
      "cell_type": "code",
      "source": [
        "# A função recebe uma lista de strings por parametro e retorna uma lista\n",
        "# com a quantidade de letras A , que tem em cada palavra da lista\n",
        "def contador(equipe_bootcamp_dados):\n",
        "    list_cont = []\n",
        "    for equipe in equipe_bootcamp_dados:\n",
        "        i = 0\n",
        "        contador = 0\n",
        "        for j in range(0, (len(equipe))):\n",
        "            if \"a\" == equipe[j]:\n",
        "                contador += 1\n",
        "        \n",
        "        list_cont.append(contador) \n",
        "        i += 1\n",
        "\n",
        "    return list_cont"
      ],
      "metadata": {
        "id": "Zk6U7KnL8WBd"
      },
      "execution_count": null,
      "outputs": []
    },
    {
      "cell_type": "code",
      "source": [
        "#Define a listra de strings\n",
        "equipe_bootcamp_dados = [\"Berthalutz\", \"GraceHooper\", \"JaquelineGoes\", \"SarahGilbert\"]\n",
        "\n",
        "#Mostra para o usuário o retorno da função\n",
        "print(contador(equipe_bootcamp_dados))"
      ],
      "metadata": {
        "id": "snTgwxt_8hcj"
      },
      "execution_count": null,
      "outputs": []
    },
    {
      "cell_type": "code",
      "source": [
        "# definindo uma lista sem tamanho determinado\n",
        "lista_alunas = []\n",
        "\n",
        "# Loop que irá se repetir 12 vezes para informarmos o nome das 12 alunas\n",
        "for i in range(0,12):\n",
        "  # Acrescentando ao último índice da lista o valor digitado pelo usuário\n",
        "    lista_alunas.append(str(input(\"Digite o nome da aluna: \")))"
      ],
      "metadata": {
        "id": "xgkMVykO8jB-"
      },
      "execution_count": null,
      "outputs": []
    },
    {
      "cell_type": "code",
      "source": [
        "# A função ordena as alunas por ordem alfabética e separa em grupos de 3 alunas. \n",
        "# Posteriormente, é criado um dicionário contendo o nome das esquipes e as alunas que compõem essas equipes\n",
        "def ordenacao(lista_alunas, equipes_bootcamp_dados):\n",
        "    lista_alunas = sorted(lista_alunas)\n",
        "\n",
        "    equipes = []\n",
        "    i = 0\n",
        "\n",
        "    while i < len(lista_alunas):\n",
        "        equipe = []\n",
        "        for j in range(3):\n",
        "            equipe.append(lista_alunas[i+j])\n",
        "        equipes.append(equipe)\n",
        "        i += 3\n",
        "\n",
        "    dicionario_equipes = {}\n",
        "    for i in range(4):\n",
        "        dicionario = {equipes_bootcamp_dados[i] : equipes[i]}\n",
        "        dicionario_equipes.update(dicionario)\n",
        "\n",
        "    return dicionario_equipes"
      ],
      "metadata": {
        "id": "_ySYFooB8jFF"
      },
      "execution_count": null,
      "outputs": []
    },
    {
      "cell_type": "code",
      "source": [
        "# imprimindo o dicionário que a função ordenacao retornou\n",
        "print(ordenacao(lista_alunas, equipe_bootcamp_dados))"
      ],
      "metadata": {
        "id": "8qZnUInj9Uvr"
      },
      "execution_count": null,
      "outputs": []
    },
    {
      "cell_type": "markdown",
      "source": [
        "### Desafio 6\n",
        "Escreva uma função em python que leia uma temperatura em graus Celsius e retorne a conversao dela em graus Fahrenheit. \n",
        "\n",
        "A fórmula de conversão é F = (9 * C + 160) / 5, na qual F é a temperatura em Fahrenheit e C é a temperatura em graus Celsius\n",
        "\n",
        "\n"
      ],
      "metadata": {
        "id": "AXoFPjyx82gG"
      }
    },
    {
      "cell_type": "code",
      "source": [
        "# A função converte a temperatura passada por parâmetro de graus celsius para fahrenheit\n",
        "def conversor_temperatura(temperatura):\n",
        "    return (9*temperatura+160)/5\n"
      ],
      "metadata": {
        "id": "OsCU2Msu9D9o"
      },
      "execution_count": null,
      "outputs": []
    },
    {
      "cell_type": "code",
      "source": [
        "# Recebendo e armazenando a temperatura em celsius digitada pelo usuário\n",
        "Celsius = int(input(\"Digite a temperatura em °C: \"))\n",
        "\n",
        "# Exibindo para o usuário o valor da temperatura convertida para fahrenheit\n",
        "print(\"Temperatura em °F = {} °F\".format(conversor_temperatura(Celsius)))"
      ],
      "metadata": {
        "id": "UBCdsBgi9Xa2"
      },
      "execution_count": null,
      "outputs": []
    },
    {
      "cell_type": "code",
      "source": [
        "Celsius = int(input(\"Digite a temperatura em °C: \"))\n",
        "\n",
        "print(\"Temperatura em °F = {} °F\".format(conversor_temperatura(Celsius)))"
      ],
      "metadata": {
        "id": "-M46Iii0N7FY"
      },
      "execution_count": null,
      "outputs": []
    }
  ]
}